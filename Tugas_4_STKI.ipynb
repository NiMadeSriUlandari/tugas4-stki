{
  "nbformat": 4,
  "nbformat_minor": 0,
  "metadata": {
    "colab": {
      "provenance": [],
      "authorship_tag": "ABX9TyOpUP69a/qHYC9ow8rlrJDD",
      "include_colab_link": true
    },
    "kernelspec": {
      "name": "python3",
      "display_name": "Python 3"
    },
    "language_info": {
      "name": "python"
    }
  },
  "cells": [
    {
      "cell_type": "markdown",
      "metadata": {
        "id": "view-in-github",
        "colab_type": "text"
      },
      "source": [
        "<a href=\"https://colab.research.google.com/github/NiMadeSriUlandari/tugas4-stki/blob/main/Tugas_4_STKI.ipynb\" target=\"_parent\"><img src=\"https://colab.research.google.com/assets/colab-badge.svg\" alt=\"Open In Colab\"/></a>"
      ]
    },
    {
      "cell_type": "markdown",
      "source": [
        "## Program Hash: Pencatatan Pengunjung Museum\n",
        "Deskripsi Program:\n",
        "\n",
        "Program ini bertujuan untuk mencatat pengunjung yang datang ke sebuah museum. Setiap pengunjung akan memiliki nomor identitas unik dan nama. Data pengunjung akan disimpan dalam struktur data hash table, di mana nomor identitas pengunjung akan digunakan sebagai kunci (key) untuk memasukkan dan mencari data pengunjung."
      ],
      "metadata": {
        "id": "5KH8pSnbwvof"
      }
    },
    {
      "cell_type": "code",
      "execution_count": 11,
      "metadata": {
        "colab": {
          "base_uri": "https://localhost:8080/"
        },
        "id": "HKlZmFJUv6aw",
        "outputId": "81ee8550-2523-45be-ef53-faa9921a684e"
      },
      "outputs": [
        {
          "name": "stdout",
          "output_type": "stream",
          "text": [
            "\n",
            "Operasi:\n",
            "1. Catat Pengunjung\n",
            "2. Cari Pengunjung\n",
            "3. Keluar\n",
            "Masukkan nomor operasi: 1\n",
            "Masukkan ID pengunjung: 1\n",
            "Masukkan nama pengunjung: asahi\n",
            "Pengunjung berhasil dicatat!\n",
            "\n",
            "Operasi:\n",
            "1. Catat Pengunjung\n",
            "2. Cari Pengunjung\n",
            "3. Keluar\n",
            "Masukkan nomor operasi: 2\n",
            "Masukkan ID pengunjung yang ingin dicari: 1\n",
            "Pengunjung ditemukan: asahi\n",
            "\n",
            "Operasi:\n",
            "1. Catat Pengunjung\n",
            "2. Cari Pengunjung\n",
            "3. Keluar\n",
            "Masukkan nomor operasi: 3\n"
          ]
        }
      ],
      "source": [
        "class TabelHash:\n",
        "    def __init__(self, ukuran):\n",
        "        self.ukuran = ukuran\n",
        "        self.tabel = [[] for _ in range(ukuran)]\n",
        "\n",
        "    def fungsi_hash(self, kunci):\n",
        "        return kunci % self.ukuran\n",
        "\n",
        "    def tambahkan(self, kunci, nama):\n",
        "        indeks = self.fungsi_hash(kunci)\n",
        "        self.tabel[indeks].append((kunci, nama))\n",
        "\n",
        "    def cari(self, kunci):\n",
        "        indeks = self.fungsi_hash(kunci)\n",
        "        for item in self.tabel[indeks]:\n",
        "            if item[0] == kunci:\n",
        "                return item[1]\n",
        "        return None\n",
        "\n",
        "def main():\n",
        "    pengunjung_museum = TabelHash(100)\n",
        "\n",
        "    while True:\n",
        "        print(\"\\nOperasi:\")\n",
        "        print(\"1. Catat Pengunjung\")\n",
        "        print(\"2. Cari Pengunjung\")\n",
        "        print(\"3. Keluar\")\n",
        "        operasi = int(input(\"Masukkan nomor operasi: \"))\n",
        "\n",
        "        if operasi == 1:\n",
        "            id_pengunjung = int(input(\"Masukkan ID pengunjung: \"))\n",
        "            nama_pengunjung = input(\"Masukkan nama pengunjung: \")\n",
        "            pengunjung_museum.tambahkan(id_pengunjung, nama_pengunjung)\n",
        "            print(\"Pengunjung berhasil dicatat!\")\n",
        "        elif operasi == 2:\n",
        "            id_pengunjung = int(input(\"Masukkan ID pengunjung yang ingin dicari: \"))\n",
        "            hasil = pengunjung_museum.cari(id_pengunjung)\n",
        "            if hasil is not None:\n",
        "                print(\"Pengunjung ditemukan:\", hasil)\n",
        "            else:\n",
        "                print(\"Pengunjung tidak ditemukan.\")\n",
        "        elif operasi == 3:\n",
        "            break\n",
        "        else:\n",
        "            print(\"Operasi tidak valid!\")\n",
        "\n",
        "\n",
        "if __name__ == \"__main__\":\n",
        "    main()\n"
      ]
    },
    {
      "cell_type": "markdown",
      "source": [
        "## Program Tree: Penelusuran File\n",
        "Deskripsi Program:\n",
        "\n",
        "Program ini bertujuan untuk melakukan penelusuran file dalam struktur folder yang ada dalam sistem file. Pengguna akan diminta untuk memasukkan nama file yang ingin dicari, dan program akan mencari file tersebut dalam struktur folder yang telah ditentukan. Struktur folder direpresentasikan menggunakan pohon biner, di mana setiap node dalam pohon mewakili folder, dan anak-anaknya mewakili subfolder atau file dalam folder tersebut."
      ],
      "metadata": {
        "id": "Dqs_Vjdow6mU"
      }
    },
    {
      "cell_type": "code",
      "source": [
        "class TreeNode:\n",
        "    def __init__(self, name):\n",
        "        self.name = name\n",
        "        self.children = []\n",
        "\n",
        "    def add_child(self, child):\n",
        "        self.children.append(child)\n",
        "\n",
        "    def search_file(self, filename):\n",
        "        if self.name == filename:\n",
        "            return True\n",
        "        for child in self.children:\n",
        "            if isinstance(child, TreeNode):\n",
        "                if child.search_file(filename):\n",
        "                    return True\n",
        "            elif child == filename:\n",
        "                return True\n",
        "        return False\n",
        "\n",
        "def main():\n",
        "    root = TreeNode(\"Root\")\n",
        "    folder1 = TreeNode(\"Documents\")\n",
        "    folder2 = TreeNode(\"Pictures\")\n",
        "    folder3 = TreeNode(\"Videos\")\n",
        "    file1 = \"Report.pdf\"\n",
        "    file2 = \"Photo.jpg\"\n",
        "    file3 = \"Presentation.pptx\"\n",
        "\n",
        "    root.add_child(folder1)\n",
        "    root.add_child(folder2)\n",
        "    root.add_child(folder3)\n",
        "    folder1.add_child(file1)\n",
        "    folder2.add_child(file2)\n",
        "    folder2.add_child(file3)\n",
        "\n",
        "    while True:\n",
        "        filename = input(\"\\nEnter file name to search (or 'exit' to quit): \")\n",
        "        if filename.lower() == \"exit\":\n",
        "            break\n",
        "        if root.search_file(filename):\n",
        "            print(\"File found!\")\n",
        "        else:\n",
        "            print(\"File not found.\")\n",
        "\n",
        "if __name__ == \"__main__\":\n",
        "    main()\n"
      ],
      "metadata": {
        "colab": {
          "base_uri": "https://localhost:8080/"
        },
        "id": "STM-KmdyP3T7",
        "outputId": "f97c07b0-1a4c-4c97-b956-e8c1ca3ce965"
      },
      "execution_count": 14,
      "outputs": [
        {
          "name": "stdout",
          "output_type": "stream",
          "text": [
            "\n",
            "Enter file name to search (or 'exit' to quit): Photo.jpg\n",
            "File found!\n",
            "\n",
            "Enter file name to search (or 'exit' to quit): Videos\n",
            "File found!\n",
            "\n",
            "Enter file name to search (or 'exit' to quit): exit\n"
          ]
        }
      ]
    }
  ]
}