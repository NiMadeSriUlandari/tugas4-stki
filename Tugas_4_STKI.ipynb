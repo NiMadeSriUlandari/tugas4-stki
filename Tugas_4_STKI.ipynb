{
  "nbformat": 4,
  "nbformat_minor": 0,
  "metadata": {
    "colab": {
      "provenance": [],
      "authorship_tag": "ABX9TyMSPKCNeE1TkDLhnVoyDLV3",
      "include_colab_link": true
    },
    "kernelspec": {
      "name": "python3",
      "display_name": "Python 3"
    },
    "language_info": {
      "name": "python"
    }
  },
  "cells": [
    {
      "cell_type": "markdown",
      "metadata": {
        "id": "view-in-github",
        "colab_type": "text"
      },
      "source": [
        "<a href=\"https://colab.research.google.com/github/NiMadeSriUlandari/tugas4-stki/blob/main/Tugas_4_STKI.ipynb\" target=\"_parent\"><img src=\"https://colab.research.google.com/assets/colab-badge.svg\" alt=\"Open In Colab\"/></a>"
      ]
    },
    {
      "cell_type": "markdown",
      "source": [
        "## Program Hash: Pencatatan Pengunjung Museum\n",
        "Deskripsi Program:\n",
        "\n",
        "Program ini bertujuan untuk mencatat pengunjung yang datang ke sebuah museum. Setiap pengunjung akan memiliki nomor identitas unik dan nama. Data pengunjung akan disimpan dalam struktur data hash table, di mana nomor identitas pengunjung akan digunakan sebagai kunci (key) untuk memasukkan dan mencari data pengunjung."
      ],
      "metadata": {
        "id": "5KH8pSnbwvof"
      }
    },
    {
      "cell_type": "code",
      "execution_count": 7,
      "metadata": {
        "colab": {
          "base_uri": "https://localhost:8080/"
        },
        "id": "HKlZmFJUv6aw",
        "outputId": "7036fdaf-6770-4cae-b35e-ff2529ae91e3"
      },
      "outputs": [
        {
          "name": "stdout",
          "output_type": "stream",
          "text": [
            "\n",
            "Operasi:\n",
            "1. Catat Pengunjung\n",
            "2. Cari Pengunjung\n",
            "3. Keluar\n",
            "Masukkan nomor operasi: 1\n",
            "Masukkan ID pengunjung: 1\n",
            "Masukkan nama pengunjung: ajeng\n",
            "Pengunjung berhasil dicatat!\n",
            "\n",
            "Operasi:\n",
            "1. Catat Pengunjung\n",
            "2. Cari Pengunjung\n",
            "3. Keluar\n",
            "Masukkan nomor operasi: 1\n",
            "Masukkan ID pengunjung: 2\n",
            "Masukkan nama pengunjung: made\n",
            "Pengunjung berhasil dicatat!\n",
            "\n",
            "Operasi:\n",
            "1. Catat Pengunjung\n",
            "2. Cari Pengunjung\n",
            "3. Keluar\n",
            "Masukkan nomor operasi: 2\n",
            "Masukkan ID pengunjung yang ingin dicari: 1\n",
            "Pengunjung ditemukan: ajeng\n",
            "\n",
            "Operasi:\n",
            "1. Catat Pengunjung\n",
            "2. Cari Pengunjung\n",
            "3. Keluar\n",
            "Masukkan nomor operasi: 2\n",
            "Masukkan ID pengunjung yang ingin dicari: 2\n",
            "Pengunjung ditemukan: made\n",
            "\n",
            "Operasi:\n",
            "1. Catat Pengunjung\n",
            "2. Cari Pengunjung\n",
            "3. Keluar\n",
            "Masukkan nomor operasi: 3\n"
          ]
        }
      ],
      "source": [
        "class TabelHash:\n",
        "    def __init__(self, ukuran):\n",
        "        self.ukuran = ukuran\n",
        "        self.tabel = [[] for _ in range(ukuran)]\n",
        "\n",
        "    def fungsi_hash(self, kunci):\n",
        "        return kunci % self.ukuran\n",
        "\n",
        "    def tambahkan(self, kunci, nama):\n",
        "        indeks = self.fungsi_hash(kunci)\n",
        "        self.tabel[indeks].append((kunci, nama))\n",
        "\n",
        "    def cari(self, kunci):\n",
        "        indeks = self.fungsi_hash(kunci)\n",
        "        for item in self.tabel[indeks]:\n",
        "            if item[0] == kunci:\n",
        "                return item[1]\n",
        "        return None\n",
        "\n",
        "def main():\n",
        "    pengunjung_museum = TabelHash(100)\n",
        "\n",
        "    while True:\n",
        "        print(\"\\nOperasi:\")\n",
        "        print(\"1. Catat Pengunjung\")\n",
        "        print(\"2. Cari Pengunjung\")\n",
        "        print(\"3. Keluar\")\n",
        "        operasi = int(input(\"Masukkan nomor operasi: \"))\n",
        "\n",
        "        if operasi == 1:\n",
        "            id_pengunjung = int(input(\"Masukkan ID pengunjung: \"))\n",
        "            nama_pengunjung = input(\"Masukkan nama pengunjung: \")\n",
        "            pengunjung_museum.tambahkan(id_pengunjung, nama_pengunjung)\n",
        "            print(\"Pengunjung berhasil dicatat!\")\n",
        "        elif operasi == 2:\n",
        "            id_pengunjung = int(input(\"Masukkan ID pengunjung yang ingin dicari: \"))\n",
        "            hasil = pengunjung_museum.cari(id_pengunjung)\n",
        "            if hasil is not None:\n",
        "                print(\"Pengunjung ditemukan:\", hasil)\n",
        "            else:\n",
        "                print(\"Pengunjung tidak ditemukan.\")\n",
        "        elif operasi == 3:\n",
        "            break\n",
        "        else:\n",
        "            print(\"Operasi tidak valid!\")\n",
        "\n",
        "\n",
        "if __name__ == \"__main__\":\n",
        "    main()\n"
      ]
    },
    {
      "cell_type": "markdown",
      "source": [
        "## Program Tree: Pembuatan Struktur Folder\n",
        "Deskripsi Program:\n",
        "\n",
        "Program ini bertujuan untuk membuat struktur folder dalam sebuah sistem file. Setiap folder memiliki nama unik dan dapat berisi subfolder atau file. Struktur folder akan direpresentasikan menggunakan pohon (tree), di mana setiap node dalam pohon akan mewakili folder dan anak-anaknya akan mewakili subfolder atau file dalam folder tersebut."
      ],
      "metadata": {
        "id": "Dqs_Vjdow6mU"
      }
    },
    {
      "cell_type": "code",
      "source": [
        "class Folder:\n",
        "    def __init__(self, name):\n",
        "        self.name = name\n",
        "        self.children = []\n",
        "\n",
        "    def add_folder(self, folder):\n",
        "        self.children.append(folder)\n",
        "\n",
        "    def add_file(self, file_name):\n",
        "        self.children.append(file_name)\n",
        "\n",
        "def print_folder_structure(folder, indent=0):\n",
        "    print(\"  \" * indent + folder.name)\n",
        "    for child in folder.children:\n",
        "        if isinstance(child, Folder):\n",
        "            print_folder_structure(child, indent + 1)\n",
        "        else:\n",
        "            print(\"  \" * (indent + 1) + \"- \" + child)\n",
        "\n",
        "def main():\n",
        "    root = Folder(\"Root\")\n",
        "    folder1 = Folder(\"Folder 1\")\n",
        "    folder2 = Folder(\"Folder 2\")\n",
        "    folder3 = Folder(\"Folder 3\")\n",
        "    file1 = \"File 1.txt\"\n",
        "    file2 = \"File 2.txt\"\n",
        "\n",
        "    root.add_folder(folder1)\n",
        "    root.add_folder(folder2)\n",
        "    root.add_file(file1)\n",
        "    folder1.add_folder(folder3)\n",
        "    folder1.add_file(file2)\n",
        "\n",
        "    print(\"Folder Structure:\")\n",
        "    print_folder_structure(root)\n",
        "\n",
        "if __name__ == \"__main__\":\n",
        "    main()\n"
      ],
      "metadata": {
        "colab": {
          "base_uri": "https://localhost:8080/"
        },
        "id": "j_l30-bdO3kZ",
        "outputId": "7f4aa646-44da-45e9-b9d9-8d48d4a420c9"
      },
      "execution_count": 9,
      "outputs": [
        {
          "output_type": "stream",
          "name": "stdout",
          "text": [
            "Folder Structure:\n",
            "Root\n",
            "  Folder 1\n",
            "    Folder 3\n",
            "    - File 2.txt\n",
            "  Folder 2\n",
            "  - File 1.txt\n"
          ]
        }
      ]
    }
  ]
}